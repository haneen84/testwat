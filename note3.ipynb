{
    "cells": [
        {
            "cell_type": "code",
            "execution_count": 1,
            "metadata": {},
            "outputs": [
                {
                    "name": "stdout",
                    "output_type": "stream",
                    "text": "Waiting for a Spark session to start...\nSpark Initialization Done! ApplicationId = app-20200715155253-0000\nKERNEL_ID = 9b24474f-667e-47a7-ad93-18b9f4ee4e70\n"
                },
                {
                    "data": {
                        "text/html": "<div>\n<style scoped>\n    .dataframe tbody tr th:only-of-type {\n        vertical-align: middle;\n    }\n\n    .dataframe tbody tr th {\n        vertical-align: top;\n    }\n\n    .dataframe thead th {\n        text-align: right;\n    }\n</style>\n<table border=\"1\" class=\"dataframe\">\n  <thead>\n    <tr style=\"text-align: right;\">\n      <th></th>\n      <th>A+</th>\n      <th>A</th>\n      <th>A-</th>\n      <th>B+</th>\n      <th>B</th>\n      <th>B-</th>\n      <th>C+</th>\n      <th>C</th>\n      <th>C-</th>\n      <th>D+</th>\n      <th>D</th>\n      <th>H</th>\n      <th>Unnamed: 12</th>\n      <th>Unnamed: 13</th>\n      <th>Unnamed: 14</th>\n      <th>Unnamed: 15</th>\n      <th>Unnamed: 16</th>\n      <th>Unnamed: 17</th>\n      <th>390</th>\n    </tr>\n  </thead>\n  <tbody>\n    <tr>\n      <th>0</th>\n      <td>100.0</td>\n      <td>98.0</td>\n      <td>97.0</td>\n      <td>96.0</td>\n      <td>94.0</td>\n      <td>91.0</td>\n      <td>86.0</td>\n      <td>80.0</td>\n      <td>69.0</td>\n      <td>59.0</td>\n      <td>55.0</td>\n      <td>48.0</td>\n      <td>NaN</td>\n      <td>NaN</td>\n      <td>NaN</td>\n      <td>NaN</td>\n      <td>NaN</td>\n      <td>NaN</td>\n      <td>NaN</td>\n    </tr>\n    <tr>\n      <th>1</th>\n      <td>100.0</td>\n      <td>98.0</td>\n      <td>97.0</td>\n      <td>96.0</td>\n      <td>94.0</td>\n      <td>91.0</td>\n      <td>86.0</td>\n      <td>80.0</td>\n      <td>69.0</td>\n      <td>59.0</td>\n      <td>52.0</td>\n      <td>46.0</td>\n      <td>NaN</td>\n      <td>NaN</td>\n      <td>NaN</td>\n      <td>NaN</td>\n      <td>NaN</td>\n      <td>NaN</td>\n      <td>NaN</td>\n    </tr>\n    <tr>\n      <th>2</th>\n      <td>100.0</td>\n      <td>98.0</td>\n      <td>97.0</td>\n      <td>96.0</td>\n      <td>94.0</td>\n      <td>91.0</td>\n      <td>86.0</td>\n      <td>80.0</td>\n      <td>67.0</td>\n      <td>59.0</td>\n      <td>51.0</td>\n      <td>43.0</td>\n      <td>NaN</td>\n      <td>NaN</td>\n      <td>NaN</td>\n      <td>NaN</td>\n      <td>NaN</td>\n      <td>NaN</td>\n      <td>NaN</td>\n    </tr>\n    <tr>\n      <th>3</th>\n      <td>100.0</td>\n      <td>98.0</td>\n      <td>97.0</td>\n      <td>96.0</td>\n      <td>94.0</td>\n      <td>91.0</td>\n      <td>86.0</td>\n      <td>79.0</td>\n      <td>66.0</td>\n      <td>58.0</td>\n      <td>50.0</td>\n      <td>40.0</td>\n      <td>NaN</td>\n      <td>NaN</td>\n      <td>NaN</td>\n      <td>NaN</td>\n      <td>NaN</td>\n      <td>NaN</td>\n      <td>NaN</td>\n    </tr>\n    <tr>\n      <th>4</th>\n      <td>100.0</td>\n      <td>98.0</td>\n      <td>97.0</td>\n      <td>96.0</td>\n      <td>94.0</td>\n      <td>91.0</td>\n      <td>85.0</td>\n      <td>78.0</td>\n      <td>65.0</td>\n      <td>56.0</td>\n      <td>50.0</td>\n      <td>34.0</td>\n      <td>NaN</td>\n      <td>NaN</td>\n      <td>NaN</td>\n      <td>NaN</td>\n      <td>NaN</td>\n      <td>NaN</td>\n      <td>NaN</td>\n    </tr>\n  </tbody>\n</table>\n</div>",
                        "text/plain": "      A+     A    A-    B+     B    B-    C+     C    C-    D+     D     H  \\\n0  100.0  98.0  97.0  96.0  94.0  91.0  86.0  80.0  69.0  59.0  55.0  48.0   \n1  100.0  98.0  97.0  96.0  94.0  91.0  86.0  80.0  69.0  59.0  52.0  46.0   \n2  100.0  98.0  97.0  96.0  94.0  91.0  86.0  80.0  67.0  59.0  51.0  43.0   \n3  100.0  98.0  97.0  96.0  94.0  91.0  86.0  79.0  66.0  58.0  50.0  40.0   \n4  100.0  98.0  97.0  96.0  94.0  91.0  85.0  78.0  65.0  56.0  50.0  34.0   \n\n   Unnamed: 12  Unnamed: 13  Unnamed: 14  Unnamed: 15  Unnamed: 16  \\\n0          NaN          NaN          NaN          NaN          NaN   \n1          NaN          NaN          NaN          NaN          NaN   \n2          NaN          NaN          NaN          NaN          NaN   \n3          NaN          NaN          NaN          NaN          NaN   \n4          NaN          NaN          NaN          NaN          NaN   \n\n   Unnamed: 17  390  \n0          NaN  NaN  \n1          NaN  NaN  \n2          NaN  NaN  \n3          NaN  NaN  \n4          NaN  NaN  "
                    },
                    "execution_count": 1,
                    "metadata": {},
                    "output_type": "execute_result"
                }
            ],
            "source": "# The code was removed by Watson Studio for sharing."
        }
    ],
    "metadata": {
        "kernelspec": {
            "display_name": "Python 3.6 with Spark",
            "language": "python3",
            "name": "python36"
        },
        "language_info": {
            "codemirror_mode": {
                "name": "ipython",
                "version": 3
            },
            "file_extension": ".py",
            "mimetype": "text/x-python",
            "name": "python",
            "nbconvert_exporter": "python",
            "pygments_lexer": "ipython3",
            "version": "3.6.8"
        }
    },
    "nbformat": 4,
    "nbformat_minor": 1
}